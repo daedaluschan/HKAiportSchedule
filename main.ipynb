{
 "cells": [
  {
   "cell_type": "code",
   "execution_count": 1,
   "metadata": {
    "collapsed": false
   },
   "outputs": [],
   "source": [
    "import requests\n",
    "import string\n",
    "from datetime import datetime\n",
    "\n",
    "from lxml import etree\n",
    "from lxml import html\n",
    "\n",
    "from pandas import DataFrame as df"
   ]
  },
  {
   "cell_type": "code",
   "execution_count": 15,
   "metadata": {
    "collapsed": false
   },
   "outputs": [
    {
     "data": {
      "text/plain": [
       "u'http://www.hongkongairport.com/flightinfo/chi/real_arrinfo.do?fromDate=2016-1-1'"
      ]
     },
     "execution_count": 15,
     "metadata": {},
     "output_type": "execute_result"
    }
   ],
   "source": [
    "\n",
    "queryParam = {'fromDate': '2016-1-1'}\n",
    "# proxies = {'http': 'proxy.wellsfargo.com:8080', 'https': 'proxy.wellsfargo.com:8080'}\n",
    "parser = etree.HTMLParser()\n",
    "\n",
    "# r = requests.get('http://www.hongkongairport.com/flightinfo/chi/real_arrinfo.do', params=queryParam, proxies=proxies)\n",
    "r = requests.get('http://www.hongkongairport.com/flightinfo/chi/real_arrinfo.do', params=queryParam)\n",
    "\n",
    "r.url"
   ]
  },
  {
   "cell_type": "code",
   "execution_count": 16,
   "metadata": {
    "collapsed": false
   },
   "outputs": [],
   "source": [
    "currentDate = datetime.now()\n",
    "yyyy = currentDate.year\n",
    "mm = currentDate.month\n",
    "dd = currentDate.day"
   ]
  },
  {
   "cell_type": "code",
   "execution_count": 29,
   "metadata": {
    "collapsed": false
   },
   "outputs": [
    {
     "data": {
      "text/html": [
       "<div>\n",
       "<table border=\"1\" class=\"dataframe\">\n",
       "  <thead>\n",
       "    <tr style=\"text-align: right;\">\n",
       "      <th></th>\n",
       "      <th>airline</th>\n",
       "      <th>arriveTime</th>\n",
       "      <th>city</th>\n",
       "      <th>flightCode</th>\n",
       "      <th>gate</th>\n",
       "      <th>scheduledTime</th>\n",
       "    </tr>\n",
       "  </thead>\n",
       "  <tbody>\n",
       "    <tr>\n",
       "      <th>0</th>\n",
       "      <td>港龍航空公司,中國國際航空公司,國泰航空公司</td>\n",
       "      <td>2016-01-01 00:18:00</td>\n",
       "      <td>杭州</td>\n",
       "      <td>KA 637,CA 6507,CX 5637</td>\n",
       "      <td>B</td>\n",
       "      <td>2015-12-31 21:40:00</td>\n",
       "    </tr>\n",
       "    <tr>\n",
       "      <th>1</th>\n",
       "      <td>韓亞航空</td>\n",
       "      <td>2016-01-01 00:53:00</td>\n",
       "      <td>首爾/仁川</td>\n",
       "      <td>OZ 745</td>\n",
       "      <td>B</td>\n",
       "      <td>2015-12-31 22:30:00</td>\n",
       "    </tr>\n",
       "    <tr>\n",
       "      <th>2</th>\n",
       "      <td>國泰航空公司,英國航空公司,芬蘭航空,越南航空公司</td>\n",
       "      <td>2016-01-01 00:08:00</td>\n",
       "      <td>胡志明市</td>\n",
       "      <td>CX 764,BA 4562,AY 5852,VN 3560</td>\n",
       "      <td>B</td>\n",
       "      <td>2015-12-31 23:10:00</td>\n",
       "    </tr>\n",
       "    <tr>\n",
       "      <th>3</th>\n",
       "      <td>港龍航空公司,國泰航空公司</td>\n",
       "      <td>2016-01-01 00:09:00</td>\n",
       "      <td>上海/浦東</td>\n",
       "      <td>KA 809,CX 5809</td>\n",
       "      <td>B</td>\n",
       "      <td>2015-12-31 23:25:00</td>\n",
       "    </tr>\n",
       "    <tr>\n",
       "      <th>4</th>\n",
       "      <td>香港快運航空</td>\n",
       "      <td>2016-01-01 00:30:00</td>\n",
       "      <td>大阪/關西</td>\n",
       "      <td>UO 689</td>\n",
       "      <td>B</td>\n",
       "      <td>2016-01-01 00:05:00</td>\n",
       "    </tr>\n",
       "  </tbody>\n",
       "</table>\n",
       "</div>"
      ],
      "text/plain": [
       "                     airline          arriveTime   city  \\\n",
       "0     港龍航空公司,中國國際航空公司,國泰航空公司 2016-01-01 00:18:00     杭州   \n",
       "1                       韓亞航空 2016-01-01 00:53:00  首爾/仁川   \n",
       "2  國泰航空公司,英國航空公司,芬蘭航空,越南航空公司 2016-01-01 00:08:00   胡志明市   \n",
       "3              港龍航空公司,國泰航空公司 2016-01-01 00:09:00  上海/浦東   \n",
       "4                     香港快運航空 2016-01-01 00:30:00  大阪/關西   \n",
       "\n",
       "                       flightCode gate       scheduledTime  \n",
       "0          KA 637,CA 6507,CX 5637    B 2015-12-31 21:40:00  \n",
       "1                          OZ 745    B 2015-12-31 22:30:00  \n",
       "2  CX 764,BA 4562,AY 5852,VN 3560    B 2015-12-31 23:10:00  \n",
       "3                  KA 809,CX 5809    B 2015-12-31 23:25:00  \n",
       "4                          UO 689    B 2016-01-01 00:05:00  "
      ]
     },
     "execution_count": 29,
     "metadata": {},
     "output_type": "execute_result"
    }
   ],
   "source": [
    "flightTable = []\n",
    "\n",
    "tree = etree.fromstring(r.content, parser=parser)\n",
    "trList =tree.xpath('//table[@id=\\'list\\']/tr[not(@mr)]')\n",
    "\n",
    "for tr in trList:\n",
    "    if 'date' in tr.attrib:\n",
    "        dateStr = tr.attrib['date'].split(',')[1]\n",
    "        yyyy=int(dateStr.split('-')[0])\n",
    "        mm=int(dateStr.split('-')[1])\n",
    "        dd=int(dateStr.split('-')[2])\n",
    "    \n",
    "    scheduledTimeStr = tr.getchildren()[0].text\n",
    "    schHH = int(scheduledTimeStr.split(':')[0])\n",
    "    schMM = int(scheduledTimeStr.split(':')[1])\n",
    "    \n",
    "    scheduledTime = datetime(yyyy, mm, dd, schHH, schMM)\n",
    "    \n",
    "    flightCode = tr.getchildren()[1].text\n",
    "    \n",
    "    city = tr.getchildren()[2].text\n",
    "    \n",
    "    airline = ''\n",
    "    airlineRaw = tr.getchildren()[3].text\n",
    "    for airlineStr in airlineRaw.split(','):\n",
    "        if airlineStr.find('wm') == -1:\n",
    "            airline = airline + ',' + airlineStr\n",
    "    airline = airline[1:]\n",
    "    \n",
    "    gate = tr.getchildren()[4].text\n",
    "    \n",
    "    arriveTimeStr = tr.getchildren()[5].text\n",
    "    if arriveTimeStr.find(':') == -1 :\n",
    "        arriveTime = None\n",
    "    elif arriveTimeStr.find('(') == -1 :\n",
    "        timeStr = arriveTimeStr.split(' ')[1]\n",
    "        arriveTime = datetime(yyyy, mm, dd, int(timeStr.split(':')[0]), int(timeStr.split(':')[1]))\n",
    "    else :\n",
    "        dateStr = arriveTimeStr.split('(')[1].split(')')[0]\n",
    "        timeStr = arriveTimeStr.split(' ')[1]\n",
    "        \n",
    "        yyyyActual = int(dateStr.split('/')[2])\n",
    "        mmActual = int(dateStr.split('/')[1])\n",
    "        ddActual = int(dateStr.split('/')[0])\n",
    "        \n",
    "        hourActual = int(timeStr.split(':')[0])\n",
    "        minActual = int(timeStr.split(':')[1])\n",
    "        \n",
    "        arriveTime = datetime(yyyyActual, mmActual, ddActual, hourActual, minActual)\n",
    "        \n",
    "    flightEntry = {'scheduledTime': scheduledTime, \n",
    "                  'flightCode': flightCode,\n",
    "                  'city': city,\n",
    "                  'airline': airline,\n",
    "                  'gate': gate,\n",
    "                  'arriveTime': arriveTime}\n",
    "    \n",
    "    flightTable.append(flightEntry)\n",
    "    \n",
    "flightData = df(flightTable)\n",
    "\n",
    "flightData.head()\n"
   ]
  },
  {
   "cell_type": "code",
   "execution_count": 30,
   "metadata": {
    "collapsed": false
   },
   "outputs": [
    {
     "data": {
      "text/html": [
       "<div>\n",
       "<table border=\"1\" class=\"dataframe\">\n",
       "  <thead>\n",
       "    <tr style=\"text-align: right;\">\n",
       "      <th></th>\n",
       "      <th>airline</th>\n",
       "      <th>arriveTime</th>\n",
       "      <th>city</th>\n",
       "      <th>flightCode</th>\n",
       "      <th>gate</th>\n",
       "      <th>scheduledTime</th>\n",
       "    </tr>\n",
       "  </thead>\n",
       "  <tbody>\n",
       "    <tr>\n",
       "      <th>28</th>\n",
       "      <td>香港快運航空</td>\n",
       "      <td>NaT</td>\n",
       "      <td>大阪/關西</td>\n",
       "      <td>UO 1671</td>\n",
       "      <td></td>\n",
       "      <td>2016-01-01 05:55:00</td>\n",
       "    </tr>\n",
       "    <tr>\n",
       "      <th>372</th>\n",
       "      <td>港龍航空公司,國泰航空公司</td>\n",
       "      <td>NaT</td>\n",
       "      <td>上海/浦東</td>\n",
       "      <td>KA 875,CX 5875</td>\n",
       "      <td></td>\n",
       "      <td>2016-01-01 19:25:00</td>\n",
       "    </tr>\n",
       "    <tr>\n",
       "      <th>378</th>\n",
       "      <td>廈門航空</td>\n",
       "      <td>NaT</td>\n",
       "      <td>福州</td>\n",
       "      <td>MF 8001</td>\n",
       "      <td></td>\n",
       "      <td>2016-01-01 19:40:00</td>\n",
       "    </tr>\n",
       "    <tr>\n",
       "      <th>462</th>\n",
       "      <td>香港航空</td>\n",
       "      <td>NaT</td>\n",
       "      <td>遵義</td>\n",
       "      <td>HX 2207</td>\n",
       "      <td></td>\n",
       "      <td>2016-01-01 22:35:00</td>\n",
       "    </tr>\n",
       "    <tr>\n",
       "      <th>497</th>\n",
       "      <td>真航空</td>\n",
       "      <td>NaT</td>\n",
       "      <td>首爾/仁川</td>\n",
       "      <td>LJ 127</td>\n",
       "      <td></td>\n",
       "      <td>2016-01-01 23:55:00</td>\n",
       "    </tr>\n",
       "  </tbody>\n",
       "</table>\n",
       "</div>"
      ],
      "text/plain": [
       "           airline arriveTime   city      flightCode gate       scheduledTime\n",
       "28          香港快運航空        NaT  大阪/關西         UO 1671      2016-01-01 05:55:00\n",
       "372  港龍航空公司,國泰航空公司        NaT  上海/浦東  KA 875,CX 5875      2016-01-01 19:25:00\n",
       "378           廈門航空        NaT     福州         MF 8001      2016-01-01 19:40:00\n",
       "462           香港航空        NaT     遵義         HX 2207      2016-01-01 22:35:00\n",
       "497            真航空        NaT  首爾/仁川          LJ 127      2016-01-01 23:55:00"
      ]
     },
     "execution_count": 30,
     "metadata": {},
     "output_type": "execute_result"
    }
   ],
   "source": [
    "flightData[flightData.arriveTime.isnull()]"
   ]
  }
 ],
 "metadata": {
  "kernelspec": {
   "display_name": "Python 2",
   "language": "python",
   "name": "python2"
  },
  "language_info": {
   "codemirror_mode": {
    "name": "ipython",
    "version": 2
   },
   "file_extension": ".py",
   "mimetype": "text/x-python",
   "name": "python",
   "nbconvert_exporter": "python",
   "pygments_lexer": "ipython2",
   "version": "2.7.10"
  }
 },
 "nbformat": 4,
 "nbformat_minor": 0
}
