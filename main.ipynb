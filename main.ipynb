{
 "cells": [
  {
   "cell_type": "code",
   "execution_count": 33,
   "metadata": {
    "collapsed": false
   },
   "outputs": [],
   "source": [
    "import requests\n",
    "import string\n",
    "from lxml import etree\n",
    "from lxml import html"
   ]
  },
  {
   "cell_type": "code",
   "execution_count": 42,
   "metadata": {
    "collapsed": false
   },
   "outputs": [
    {
     "data": {
      "text/plain": [
       "503"
      ]
     },
     "execution_count": 42,
     "metadata": {},
     "output_type": "execute_result"
    }
   ],
   "source": [
    "queryParam = {'fromDate': '2014-12-18'}\n",
    "# proxies = {'http': 'proxy.wellsfargo.com:8080', 'https': 'proxy.wellsfargo.com:8080'}\n",
    "parser = etree.HTMLParser()\n",
    "r = requests.get('http://www.hongkongairport.com/flightinfo/chi/real_arrinfo.do', data=queryParam, proxies=proxies)\n",
    "\n",
    "# htmltext = unicode(string.replace(r.text, '&nbsp;', ' '))\n",
    "\n",
    "\n",
    "# root = etree.fromstring(htmltext)\n",
    "\n",
    "tree = etree.fromstring(r.text, parser=parser)\n",
    "#htmltext\n",
    "len(tree.xpath('//table[@id=\\'list\\']/tr[not(@mr)]'))"
   ]
  },
  {
   "cell_type": "code",
   "execution_count": null,
   "metadata": {
    "collapsed": true
   },
   "outputs": [],
   "source": []
  }
 ],
 "metadata": {
  "kernelspec": {
   "display_name": "Python 2",
   "language": "python",
   "name": "python2"
  },
  "language_info": {
   "codemirror_mode": {
    "name": "ipython",
    "version": 2
   },
   "file_extension": ".py",
   "mimetype": "text/x-python",
   "name": "python",
   "nbconvert_exporter": "python",
   "pygments_lexer": "ipython2",
   "version": "2.7.10"
  }
 },
 "nbformat": 4,
 "nbformat_minor": 0
}
