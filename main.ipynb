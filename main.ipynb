{
 "cells": [
  {
   "cell_type": "code",
   "execution_count": 11,
   "metadata": {
    "collapsed": false
   },
   "outputs": [],
   "source": [
    "import requests\n",
    "import string\n",
    "from datetime import datetime\n",
    "from datetime import timedelta\n",
    "\n",
    "from lxml import etree\n",
    "from lxml import html\n",
    "\n",
    "from pandas import DataFrame as df"
   ]
  },
  {
   "cell_type": "code",
   "execution_count": 15,
   "metadata": {
    "collapsed": false
   },
   "outputs": [
    {
     "data": {
      "text/plain": [
       "{'fromDate': '2016-1-2'}"
      ]
     },
     "execution_count": 15,
     "metadata": {},
     "output_type": "execute_result"
    }
   ],
   "source": [
    "currentDate = datetime.now()\n",
    "yyyy = currentDate.year\n",
    "mm = currentDate.month\n",
    "dd = currentDate.day\n",
    "\n",
    "dayback =timedelta(days=1, hours=22)\n",
    "dateToExtact = currentDate - dayback\n",
    "\n",
    "ext_yyyy = dateToExtact.year\n",
    "ext_mm = dateToExtact.month\n",
    "ext_dd = dateToExtact.day\n",
    "\n",
    "queryParam = {'fromDate': ext_yyyy.__str__() + '-' + ext_mm.__str__() + '-' + ext_dd.__str__()}\n",
    "\n",
    "queryParam"
   ]
  },
  {
   "cell_type": "code",
   "execution_count": 16,
   "metadata": {
    "collapsed": false
   },
   "outputs": [
    {
     "data": {
      "text/plain": [
       "u'http://www.hongkongairport.com/flightinfo/chi/real_arrinfo.do?fromDate=2016-1-2'"
      ]
     },
     "execution_count": 16,
     "metadata": {},
     "output_type": "execute_result"
    }
   ],
   "source": [
    "\n",
    "proxies = {'http': 'proxy.wellsfargo.com:8080', 'https': 'proxy.wellsfargo.com:8080'}\n",
    "parser = etree.HTMLParser()\n",
    "\n",
    "r = requests.get('http://www.hongkongairport.com/flightinfo/chi/real_arrinfo.do', params=queryParam, proxies=proxies)\n",
    "# r = requests.get('http://www.hongkongairport.com/flightinfo/chi/real_arrinfo.do', params=queryParam)\n",
    "\n",
    "r.url"
   ]
  },
  {
   "cell_type": "code",
   "execution_count": 17,
   "metadata": {
    "collapsed": false
   },
   "outputs": [
    {
     "data": {
      "text/html": [
       "<div>\n",
       "<table border=\"1\" class=\"dataframe\">\n",
       "  <thead>\n",
       "    <tr style=\"text-align: right;\">\n",
       "      <th></th>\n",
       "      <th>airline</th>\n",
       "      <th>arriveTime</th>\n",
       "      <th>city</th>\n",
       "      <th>flightCode</th>\n",
       "      <th>gate</th>\n",
       "      <th>scheduledTime</th>\n",
       "    </tr>\n",
       "  </thead>\n",
       "  <tbody>\n",
       "    <tr>\n",
       "      <th>0</th>\n",
       "      <td>土耳其航空</td>\n",
       "      <td>2016-01-02 01:09:00</td>\n",
       "      <td>伊斯坦堡</td>\n",
       "      <td>TK 070</td>\n",
       "      <td>B</td>\n",
       "      <td>2016-01-01 17:15:00</td>\n",
       "    </tr>\n",
       "    <tr>\n",
       "      <th>1</th>\n",
       "      <td>中華航空</td>\n",
       "      <td>2016-01-02 00:08:00</td>\n",
       "      <td>台北</td>\n",
       "      <td>CI 921</td>\n",
       "      <td>B</td>\n",
       "      <td>2016-01-01 23:50:00</td>\n",
       "    </tr>\n",
       "    <tr>\n",
       "      <th>2</th>\n",
       "      <td>國泰航空公司</td>\n",
       "      <td>2016-01-02 01:17:00</td>\n",
       "      <td>新加坡</td>\n",
       "      <td>CX 636</td>\n",
       "      <td>B</td>\n",
       "      <td>2016-01-02 00:05:00</td>\n",
       "    </tr>\n",
       "    <tr>\n",
       "      <th>3</th>\n",
       "      <td>釜山航空,韓亞航空</td>\n",
       "      <td>2016-01-02 00:09:00</td>\n",
       "      <td>釜山</td>\n",
       "      <td>BX 391,OZ 9741</td>\n",
       "      <td>B</td>\n",
       "      <td>2016-01-02 00:15:00</td>\n",
       "    </tr>\n",
       "    <tr>\n",
       "      <th>4</th>\n",
       "      <td>濟州航空</td>\n",
       "      <td>2016-01-02 00:53:00</td>\n",
       "      <td>首爾/仁川</td>\n",
       "      <td>7C 2107</td>\n",
       "      <td>B</td>\n",
       "      <td>2016-01-02 00:25:00</td>\n",
       "    </tr>\n",
       "  </tbody>\n",
       "</table>\n",
       "</div>"
      ],
      "text/plain": [
       "     airline          arriveTime   city      flightCode gate  \\\n",
       "0      土耳其航空 2016-01-02 01:09:00   伊斯坦堡          TK 070    B   \n",
       "1       中華航空 2016-01-02 00:08:00     台北          CI 921    B   \n",
       "2     國泰航空公司 2016-01-02 01:17:00    新加坡          CX 636    B   \n",
       "3  釜山航空,韓亞航空 2016-01-02 00:09:00     釜山  BX 391,OZ 9741    B   \n",
       "4       濟州航空 2016-01-02 00:53:00  首爾/仁川         7C 2107    B   \n",
       "\n",
       "        scheduledTime  \n",
       "0 2016-01-01 17:15:00  \n",
       "1 2016-01-01 23:50:00  \n",
       "2 2016-01-02 00:05:00  \n",
       "3 2016-01-02 00:15:00  \n",
       "4 2016-01-02 00:25:00  "
      ]
     },
     "execution_count": 17,
     "metadata": {},
     "output_type": "execute_result"
    }
   ],
   "source": [
    "flightTable = []\n",
    "\n",
    "tree = etree.fromstring(r.content, parser=parser)\n",
    "trList =tree.xpath('//table[@id=\\'list\\']/tr[not(@mr)]')\n",
    "\n",
    "for tr in trList:\n",
    "    if 'date' in tr.attrib:\n",
    "        dateStr = tr.attrib['date'].split(',')[1]\n",
    "        yyyy=int(dateStr.split('-')[0])\n",
    "        mm=int(dateStr.split('-')[1])\n",
    "        dd=int(dateStr.split('-')[2])\n",
    "    \n",
    "    scheduledTimeStr = tr.getchildren()[0].text\n",
    "    schHH = int(scheduledTimeStr.split(':')[0])\n",
    "    schMM = int(scheduledTimeStr.split(':')[1])\n",
    "    \n",
    "    scheduledTime = datetime(yyyy, mm, dd, schHH, schMM)\n",
    "    \n",
    "    flightCode = tr.getchildren()[1].text\n",
    "    \n",
    "    city = tr.getchildren()[2].text\n",
    "    \n",
    "    airline = ''\n",
    "    airlineRaw = tr.getchildren()[3].text\n",
    "    for airlineStr in airlineRaw.split(','):\n",
    "        if airlineStr.find('wm') == -1:\n",
    "            airline = airline + ',' + airlineStr\n",
    "    airline = airline[1:]\n",
    "    \n",
    "    gate = tr.getchildren()[4].text\n",
    "    \n",
    "    arriveTimeStr = tr.getchildren()[5].text\n",
    "    if arriveTimeStr.find(':') == -1 :\n",
    "        arriveTime = None\n",
    "    elif arriveTimeStr.find('(') == -1 :\n",
    "        timeStr = arriveTimeStr.split(' ')[1]\n",
    "        arriveTime = datetime(yyyy, mm, dd, int(timeStr.split(':')[0]), int(timeStr.split(':')[1]))\n",
    "    else :\n",
    "        dateStr = arriveTimeStr.split('(')[1].split(')')[0]\n",
    "        timeStr = arriveTimeStr.split(' ')[1]\n",
    "        \n",
    "        yyyyActual = int(dateStr.split('/')[2])\n",
    "        mmActual = int(dateStr.split('/')[1])\n",
    "        ddActual = int(dateStr.split('/')[0])\n",
    "        \n",
    "        hourActual = int(timeStr.split(':')[0])\n",
    "        minActual = int(timeStr.split(':')[1])\n",
    "        \n",
    "        arriveTime = datetime(yyyyActual, mmActual, ddActual, hourActual, minActual)\n",
    "        \n",
    "    flightEntry = {'scheduledTime': scheduledTime, \n",
    "                  'flightCode': flightCode,\n",
    "                  'city': city,\n",
    "                  'airline': airline,\n",
    "                  'gate': gate,\n",
    "                  'arriveTime': arriveTime}\n",
    "    \n",
    "    flightTable.append(flightEntry)\n",
    "    \n",
    "flightData = df(flightTable)\n",
    "\n",
    "flightData.head()\n"
   ]
  },
  {
   "cell_type": "code",
   "execution_count": 18,
   "metadata": {
    "collapsed": false
   },
   "outputs": [
    {
     "data": {
      "text/html": [
       "<div>\n",
       "<table border=\"1\" class=\"dataframe\">\n",
       "  <thead>\n",
       "    <tr style=\"text-align: right;\">\n",
       "      <th></th>\n",
       "      <th>airline</th>\n",
       "      <th>arriveTime</th>\n",
       "      <th>city</th>\n",
       "      <th>flightCode</th>\n",
       "      <th>gate</th>\n",
       "      <th>scheduledTime</th>\n",
       "    </tr>\n",
       "  </thead>\n",
       "  <tbody>\n",
       "    <tr>\n",
       "      <th>7</th>\n",
       "      <td>港龍航空公司,國泰航空公司,中國國際航空公司</td>\n",
       "      <td>NaT</td>\n",
       "      <td>北京</td>\n",
       "      <td>KA 975,CX 5975,CA 6523</td>\n",
       "      <td></td>\n",
       "      <td>2016-01-02 00:40:00</td>\n",
       "    </tr>\n",
       "    <tr>\n",
       "      <th>26</th>\n",
       "      <td>香港快運航空</td>\n",
       "      <td>NaT</td>\n",
       "      <td>大阪/關西</td>\n",
       "      <td>UO 1671</td>\n",
       "      <td></td>\n",
       "      <td>2016-01-02 05:55:00</td>\n",
       "    </tr>\n",
       "    <tr>\n",
       "      <th>63</th>\n",
       "      <td>美佳航空</td>\n",
       "      <td>NaT</td>\n",
       "      <td>馬累</td>\n",
       "      <td>LV 136</td>\n",
       "      <td></td>\n",
       "      <td>2016-01-02 08:20:00</td>\n",
       "    </tr>\n",
       "    <tr>\n",
       "      <th>65</th>\n",
       "      <td>中國東方航空</td>\n",
       "      <td>NaT</td>\n",
       "      <td>合肥</td>\n",
       "      <td>MU 5031</td>\n",
       "      <td></td>\n",
       "      <td>2016-01-02 08:50:00</td>\n",
       "    </tr>\n",
       "    <tr>\n",
       "      <th>110</th>\n",
       "      <td>香港航空,中國東方航空,海南航空</td>\n",
       "      <td>NaT</td>\n",
       "      <td>杭州</td>\n",
       "      <td>HX 129,MU 8974,HU 8517</td>\n",
       "      <td></td>\n",
       "      <td>2016-01-02 10:30:00</td>\n",
       "    </tr>\n",
       "    <tr>\n",
       "      <th>114</th>\n",
       "      <td>香港快運航空</td>\n",
       "      <td>NaT</td>\n",
       "      <td>寧波</td>\n",
       "      <td>UO 1227</td>\n",
       "      <td></td>\n",
       "      <td>2016-01-02 10:40:00</td>\n",
       "    </tr>\n",
       "    <tr>\n",
       "      <th>169</th>\n",
       "      <td>國泰航空公司,港龍航空公司</td>\n",
       "      <td>NaT</td>\n",
       "      <td>上海/浦東</td>\n",
       "      <td>CX 365,KA 5365</td>\n",
       "      <td></td>\n",
       "      <td>2016-01-02 12:30:00</td>\n",
       "    </tr>\n",
       "    <tr>\n",
       "      <th>267</th>\n",
       "      <td>港龍航空公司,國泰航空公司</td>\n",
       "      <td>NaT</td>\n",
       "      <td>上海/浦東</td>\n",
       "      <td>KA 865,CX 5865</td>\n",
       "      <td></td>\n",
       "      <td>2016-01-02 15:45:00</td>\n",
       "    </tr>\n",
       "  </tbody>\n",
       "</table>\n",
       "</div>"
      ],
      "text/plain": [
       "                    airline arriveTime   city              flightCode gate  \\\n",
       "7    港龍航空公司,國泰航空公司,中國國際航空公司        NaT     北京  KA 975,CX 5975,CA 6523        \n",
       "26                   香港快運航空        NaT  大阪/關西                 UO 1671        \n",
       "63                     美佳航空        NaT     馬累                  LV 136        \n",
       "65                   中國東方航空        NaT     合肥                 MU 5031        \n",
       "110        香港航空,中國東方航空,海南航空        NaT     杭州  HX 129,MU 8974,HU 8517        \n",
       "114                  香港快運航空        NaT     寧波                 UO 1227        \n",
       "169           國泰航空公司,港龍航空公司        NaT  上海/浦東          CX 365,KA 5365        \n",
       "267           港龍航空公司,國泰航空公司        NaT  上海/浦東          KA 865,CX 5865        \n",
       "\n",
       "          scheduledTime  \n",
       "7   2016-01-02 00:40:00  \n",
       "26  2016-01-02 05:55:00  \n",
       "63  2016-01-02 08:20:00  \n",
       "65  2016-01-02 08:50:00  \n",
       "110 2016-01-02 10:30:00  \n",
       "114 2016-01-02 10:40:00  \n",
       "169 2016-01-02 12:30:00  \n",
       "267 2016-01-02 15:45:00  "
      ]
     },
     "execution_count": 18,
     "metadata": {},
     "output_type": "execute_result"
    }
   ],
   "source": [
    "flightData[flightData.arriveTime.isnull()]"
   ]
  }
 ],
 "metadata": {
  "kernelspec": {
   "display_name": "Python 2",
   "language": "python",
   "name": "python2"
  },
  "language_info": {
   "codemirror_mode": {
    "name": "ipython",
    "version": 2
   },
   "file_extension": ".py",
   "mimetype": "text/x-python",
   "name": "python",
   "nbconvert_exporter": "python",
   "pygments_lexer": "ipython2",
   "version": "2.7.10"
  }
 },
 "nbformat": 4,
 "nbformat_minor": 0
}
